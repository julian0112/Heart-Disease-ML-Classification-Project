{
 "cells": [
  {
   "cell_type": "markdown",
   "metadata": {},
   "source": [
    "# Heart Disease Classification Project"
   ]
  },
  {
   "cell_type": "markdown",
   "metadata": {},
   "source": [
    "### Main Objective"
   ]
  },
  {
   "cell_type": "markdown",
   "metadata": {},
   "source": [
    "The objective of the project is create a model that gives the best results predicting the target feature, we are going to use multiple metrics to check this (Accuracy, Precision, Recall, F1 Score and AUC) <BR>\n",
    "\n",
    "The target data is not that much unbalanced, however we are going to explore the different configuration for the models, where they are going to be plain, weighted, weighted + SMOTE and weighted + Undersampling, this is done just in case there is a important change in the metrics "
   ]
  },
  {
   "cell_type": "markdown",
   "metadata": {},
   "source": [
    "### Importing the Libraries\n",
    " "
   ]
  },
  {
   "cell_type": "code",
   "execution_count": 82,
   "metadata": {},
   "outputs": [],
   "source": [
    "import pandas as pd\n",
    "import numpy as np\n",
    "from sklearn.linear_model import LogisticRegression\n",
    "from sklearn.ensemble import RandomForestClassifier\n",
    "from sklearn.neighbors import KNeighborsClassifier\n",
    "from sklearn.svm import LinearSVC\n",
    "from sklearn.metrics import accuracy_score, precision_recall_fscore_support, roc_auc_score\n",
    "from sklearn.model_selection import GridSearchCV, train_test_split\n",
    "from sklearn.preprocessing import StandardScaler\n",
    "from imblearn.over_sampling import SMOTE\n",
    "from imblearn.under_sampling import RandomUnderSampler\n",
    "import matplotlib.pyplot as plt\n",
    "import seaborn as sns"
   ]
  },
  {
   "cell_type": "markdown",
   "metadata": {},
   "source": []
  },
  {
   "cell_type": "markdown",
   "metadata": {},
   "source": [
    "### Importing the Data"
   ]
  },
  {
   "cell_type": "code",
   "execution_count": 3,
   "metadata": {},
   "outputs": [
    {
     "data": {
      "text/html": [
       "<div>\n",
       "<style scoped>\n",
       "    .dataframe tbody tr th:only-of-type {\n",
       "        vertical-align: middle;\n",
       "    }\n",
       "\n",
       "    .dataframe tbody tr th {\n",
       "        vertical-align: top;\n",
       "    }\n",
       "\n",
       "    .dataframe thead th {\n",
       "        text-align: right;\n",
       "    }\n",
       "</style>\n",
       "<table border=\"1\" class=\"dataframe\">\n",
       "  <thead>\n",
       "    <tr style=\"text-align: right;\">\n",
       "      <th></th>\n",
       "      <th>age</th>\n",
       "      <th>sex</th>\n",
       "      <th>cp</th>\n",
       "      <th>trestbps</th>\n",
       "      <th>chol</th>\n",
       "      <th>fbs</th>\n",
       "      <th>restecg</th>\n",
       "      <th>thalach</th>\n",
       "      <th>exang</th>\n",
       "      <th>oldpeak</th>\n",
       "      <th>slope</th>\n",
       "      <th>ca</th>\n",
       "      <th>thal</th>\n",
       "      <th>target</th>\n",
       "    </tr>\n",
       "  </thead>\n",
       "  <tbody>\n",
       "    <tr>\n",
       "      <th>0</th>\n",
       "      <td>63</td>\n",
       "      <td>1</td>\n",
       "      <td>3</td>\n",
       "      <td>145</td>\n",
       "      <td>233</td>\n",
       "      <td>1</td>\n",
       "      <td>0</td>\n",
       "      <td>150</td>\n",
       "      <td>0</td>\n",
       "      <td>2.3</td>\n",
       "      <td>0</td>\n",
       "      <td>0</td>\n",
       "      <td>1</td>\n",
       "      <td>1</td>\n",
       "    </tr>\n",
       "    <tr>\n",
       "      <th>1</th>\n",
       "      <td>37</td>\n",
       "      <td>1</td>\n",
       "      <td>2</td>\n",
       "      <td>130</td>\n",
       "      <td>250</td>\n",
       "      <td>0</td>\n",
       "      <td>1</td>\n",
       "      <td>187</td>\n",
       "      <td>0</td>\n",
       "      <td>3.5</td>\n",
       "      <td>0</td>\n",
       "      <td>0</td>\n",
       "      <td>2</td>\n",
       "      <td>1</td>\n",
       "    </tr>\n",
       "    <tr>\n",
       "      <th>2</th>\n",
       "      <td>41</td>\n",
       "      <td>0</td>\n",
       "      <td>1</td>\n",
       "      <td>130</td>\n",
       "      <td>204</td>\n",
       "      <td>0</td>\n",
       "      <td>0</td>\n",
       "      <td>172</td>\n",
       "      <td>0</td>\n",
       "      <td>1.4</td>\n",
       "      <td>2</td>\n",
       "      <td>0</td>\n",
       "      <td>2</td>\n",
       "      <td>1</td>\n",
       "    </tr>\n",
       "    <tr>\n",
       "      <th>3</th>\n",
       "      <td>56</td>\n",
       "      <td>1</td>\n",
       "      <td>1</td>\n",
       "      <td>120</td>\n",
       "      <td>236</td>\n",
       "      <td>0</td>\n",
       "      <td>1</td>\n",
       "      <td>178</td>\n",
       "      <td>0</td>\n",
       "      <td>0.8</td>\n",
       "      <td>2</td>\n",
       "      <td>0</td>\n",
       "      <td>2</td>\n",
       "      <td>1</td>\n",
       "    </tr>\n",
       "    <tr>\n",
       "      <th>4</th>\n",
       "      <td>57</td>\n",
       "      <td>0</td>\n",
       "      <td>0</td>\n",
       "      <td>120</td>\n",
       "      <td>354</td>\n",
       "      <td>0</td>\n",
       "      <td>1</td>\n",
       "      <td>163</td>\n",
       "      <td>1</td>\n",
       "      <td>0.6</td>\n",
       "      <td>2</td>\n",
       "      <td>0</td>\n",
       "      <td>2</td>\n",
       "      <td>1</td>\n",
       "    </tr>\n",
       "  </tbody>\n",
       "</table>\n",
       "</div>"
      ],
      "text/plain": [
       "   age  sex  cp  trestbps  chol  fbs  restecg  thalach  exang  oldpeak  slope  \\\n",
       "0   63    1   3       145   233    1        0      150      0      2.3      0   \n",
       "1   37    1   2       130   250    0        1      187      0      3.5      0   \n",
       "2   41    0   1       130   204    0        0      172      0      1.4      2   \n",
       "3   56    1   1       120   236    0        1      178      0      0.8      2   \n",
       "4   57    0   0       120   354    0        1      163      1      0.6      2   \n",
       "\n",
       "   ca  thal  target  \n",
       "0   0     1       1  \n",
       "1   0     2       1  \n",
       "2   0     2       1  \n",
       "3   0     2       1  \n",
       "4   0     2       1  "
      ]
     },
     "execution_count": 3,
     "metadata": {},
     "output_type": "execute_result"
    }
   ],
   "source": [
    "data = pd.read_csv('heart-disease.csv')\n",
    "data.head()"
   ]
  },
  {
   "cell_type": "code",
   "execution_count": 4,
   "metadata": {},
   "outputs": [
    {
     "name": "stdout",
     "output_type": "stream",
     "text": [
      "<class 'pandas.core.frame.DataFrame'>\n",
      "RangeIndex: 303 entries, 0 to 302\n",
      "Data columns (total 14 columns):\n",
      " #   Column    Non-Null Count  Dtype  \n",
      "---  ------    --------------  -----  \n",
      " 0   age       303 non-null    int64  \n",
      " 1   sex       303 non-null    int64  \n",
      " 2   cp        303 non-null    int64  \n",
      " 3   trestbps  303 non-null    int64  \n",
      " 4   chol      303 non-null    int64  \n",
      " 5   fbs       303 non-null    int64  \n",
      " 6   restecg   303 non-null    int64  \n",
      " 7   thalach   303 non-null    int64  \n",
      " 8   exang     303 non-null    int64  \n",
      " 9   oldpeak   303 non-null    float64\n",
      " 10  slope     303 non-null    int64  \n",
      " 11  ca        303 non-null    int64  \n",
      " 12  thal      303 non-null    int64  \n",
      " 13  target    303 non-null    int64  \n",
      "dtypes: float64(1), int64(13)\n",
      "memory usage: 33.3 KB\n"
     ]
    }
   ],
   "source": [
    "data.info()"
   ]
  },
  {
   "cell_type": "markdown",
   "metadata": {},
   "source": [
    "There is no Null values in the dataset."
   ]
  },
  {
   "cell_type": "markdown",
   "metadata": {},
   "source": [
    "### About the Data\n",
    "The dataset contains medical data for predicting heart disease.\n",
    "\n",
    "### Columns\n",
    "-  age: Age of the patient in years.<br>\n",
    "-  sex: Sex of the patient (1 = male, 0 = female)<br>\n",
    "-  cp: Chest pain type (1-4)<br>\n",
    "-  trestbps: Resting blood pressure (in mm Hg on admission to the hospital)<br>\n",
    "-  chol: Serum cholesterol in mg/dl<br>\n",
    "-  fbs: Fasting blood sugar > 120 mg/dl (1 = true; 0 = false)<br>\n",
    "-  restecg: Resting electrocardiographic results (0-2)<br>\n",
    "-  thalach: Maximum heart rate achieved<br>\n",
    "-  exang: Exercise-induced angina (1 = yes; 0 = no)<br>\n",
    "-  oldpeak: ST depression induced by exercise relative to rest<br>\n",
    "-  target: wheather or not the patient has heart deases"
   ]
  },
  {
   "cell_type": "markdown",
   "metadata": {},
   "source": [
    "### Functions to GrindSearchCV Models, Evaluate the results and Resample the data"
   ]
  },
  {
   "cell_type": "code",
   "execution_count": null,
   "metadata": {},
   "outputs": [],
   "source": [
    "rs = 123\n",
    "\n",
    "# Grind Search for Logistic Regression\n",
    "def grid_search_lr(X_train, y_train):\n",
    "    params_grid = {\n",
    "    'class_weight': [{0:0.05, 1:0.95}, {0:0.1, 1:0.9}, {0:0.2, 1:0.8}, {0:0.3, 1:0.7}, {0:0.4, 1:0.6}, {0:0.5, 1:0.5},]\n",
    "    }\n",
    "    lr_model = LogisticRegression(random_state=rs, max_iter=1000)\n",
    "    grid_search = GridSearchCV(estimator = lr_model, \n",
    "                           param_grid = params_grid, \n",
    "                           scoring='f1',\n",
    "                           cv = 5, verbose = 1)\n",
    "    grid_search.fit(X_train, y_train)\n",
    "    best_params = grid_search.best_params_\n",
    "    return best_params\n",
    "\n",
    "# Grind Search for Random Forest\n",
    "def grid_search_rf(X_train, y_train):\n",
    "    params_grid = {\n",
    "        'max_depth': [5, 10, 15, 20],\n",
    "        'n_estimators': [25, 50, 100],\n",
    "        'min_samples_split': [2, 5],\n",
    "        'class_weight': [{0:0.1, 1:0.9}, {0:0.2, 1:0.8}, {0:0.3, 1:0.7}, {0:0.4, 1:0.6}, {0:0.5, 1:0.5}]\n",
    "    }\n",
    "    rf_model = RandomForestClassifier(random_state=rs)\n",
    "    grid_search = GridSearchCV(estimator = rf_model, \n",
    "                           param_grid = params_grid, \n",
    "                           scoring='f1',\n",
    "                           cv = 5, verbose = 1)\n",
    "    grid_search.fit(X_train, y_train)\n",
    "    best_params = grid_search.best_params_\n",
    "    return best_params\n",
    "\n",
    "# Grind Search for KNN\n",
    "def grid_search_knn(X_train, y_train):\n",
    "    params_grid = {\n",
    "        'n_neighbors': [2, 3, 4, 5],\n",
    "        'weights': ['uniform', 'distance'],\n",
    "        'algorithm': ['auto'],\n",
    "        'leaf_size': [25, 30, 35, 40, 45],\n",
    "        'p': [1, 2],\n",
    "        'metric': ['euclidean', 'manhattan']\n",
    "    }\n",
    "    \n",
    "    knn_model = KNeighborsClassifier()\n",
    "    grid_search = GridSearchCV(estimator=knn_model,\n",
    "                               param_grid=params_grid,\n",
    "                               scoring='f1',\n",
    "                               cv = 5, verbose=1)\n",
    "    grid_search.fit(X_train, y_train)\n",
    "    best_params = grid_search.best_params_\n",
    "    return best_params\n",
    "\n",
    "# Grind Search for LinearSCV\n",
    "def grid_seacrh_lsvc(X_train, y_train):\n",
    "    params_grid = {\n",
    "        'penalty': ['l1', 'l2'],\n",
    "        'C': [1, 3, 5, 7, 9, 10, 12, 15],\n",
    "        'class_weight': [{0:0.1, 1:0.9}, {0:0.2, 1:0.8}, {0:0.3, 1:0.7}, {0:0.4, 1:0.6}, {0:0.5, 1:0.5}],\n",
    "    }\n",
    "    \n",
    "    lscv_model = LinearSVC(random_state=rs, max_iter=2000)\n",
    "    grid_search = GridSearchCV(estimator=lscv_model,\n",
    "                                    param_grid=params_grid,\n",
    "                                    scoring='f1',\n",
    "                                    cv=5, verbose=1)\n",
    "    grid_search.fit(X_train, y_train)\n",
    "    best_params = grid_search.best_params_\n",
    "    return best_params\n",
    "\n",
    "# Evaluate Accuracy, Precision, Recall, F1 Score, and AUC\n",
    "def evaluate(y_test, preds):\n",
    "    precision, recall, f_beta, support = precision_recall_fscore_support(y_test, preds, beta=5, pos_label=1, average='binary')\n",
    "    auc = roc_auc_score(y_test, preds)\n",
    "    accuracy = accuracy_score(y_test, preds)\n",
    "    print(f\"Accuracy is: {accuracy:.2f}\")\n",
    "    print(f\"Precision is: {precision:.2f}\")\n",
    "    print(f\"Recall is: {recall:.2f}\")\n",
    "    print(f\"Fscore is: {f_beta:.2f}\")\n",
    "    print(f\"AUC is: {auc:.2f}\")\n",
    "    \n",
    "# Resample data to SMOTE and Random UnderSample\n",
    "def evaluate(yt, yp, eval_type=\"Original\"):\n",
    "    results_pos = {}\n",
    "    results_pos['type'] = eval_type\n",
    "    # Accuracy\n",
    "    results_pos['accuracy'] = accuracy_score(yt, yp)\n",
    "    # Precision, recall, Fscore\n",
    "    precision, recall, f_beta, _ = precision_recall_fscore_support(yt, yp, beta=5, pos_label=1, average='binary')\n",
    "    results_pos['recall'] = recall\n",
    "    # AUC\n",
    "    results_pos['auc'] = roc_auc_score(yt, yp)\n",
    "    # Precision\n",
    "    results_pos['precision'] = precision\n",
    "    # Fscore\n",
    "    results_pos['fscore'] = f_beta\n",
    "    return results_pos\n",
    "\n",
    "# Visualize the Results\n",
    "def visualize_eval_metrics(results):\n",
    "    df = pd.DataFrame(data=results)\n",
    "    #table = pd.pivot_table(df, values='type', index=['accuracy', 'precision', 'recall', 'f1', 'auc'],\n",
    "    #                columns=['type'])\n",
    "    #df = df.set_index('type').transpose()\n",
    "    print(df)\n",
    "    x = np.arange(5)\n",
    "    original = df.iloc[0, 1:].values\n",
    "    class_weight = df.iloc[1, 1:].values\n",
    "    smote = df.iloc[2, 1:].values\n",
    "    under = df.iloc[3, 1:].values\n",
    "    width = 0.2\n",
    "    plt.figure(figsize=(12, 10), dpi=80)\n",
    "    plt.bar(x-0.2, original, width, color='#95a5a6')\n",
    "    plt.bar(x, class_weight, width, color='#d35400')\n",
    "    plt.bar(x+0.2, smote, width, color='#2980b9')\n",
    "    plt.bar(x+0.4, under, width, color='#3498db')\n",
    "    plt.xticks(x, ['Accuracy', 'Recall', 'AUC', 'Precision', 'Fscore'])\n",
    "    plt.xlabel(\"Evaluation Metrics\")\n",
    "    plt.ylabel(\"Score\")\n",
    "    plt.legend([\"Original\", \"Class Weight\", \"SMOTE\", \"Undersampling\"])\n",
    "    plt.show()\n"
   ]
  },
  {
   "cell_type": "code",
   "execution_count": 71,
   "metadata": {},
   "outputs": [
    {
     "data": {
      "text/plain": [
       "target\n",
       "1    165\n",
       "0    138\n",
       "Name: count, dtype: int64"
      ]
     },
     "execution_count": 71,
     "metadata": {},
     "output_type": "execute_result"
    }
   ],
   "source": [
    "data['target'].value_counts()"
   ]
  },
  {
   "cell_type": "code",
   "execution_count": 15,
   "metadata": {},
   "outputs": [
    {
     "data": {
      "text/plain": [
       "Text(0.5, 1.0, 'Distribution of Chest Pain by the last ST Depression (OldPeak)')"
      ]
     },
     "execution_count": 15,
     "metadata": {},
     "output_type": "execute_result"
    },
    {
     "data": {
      "image/png": "[encoded data removed]",
      "text/plain": [
       "<Figure size 1200x400 with 2 Axes>"
      ]
     },
     "metadata": {},
     "output_type": "display_data"
    }
   ],
   "source": [
    "df = data.copy()\n",
    "df['sex'] = df['sex'].map({1: 'Male', 0:'No'})\n",
    "df['cp'] = df['cp'].map({0: 1, 1: 2, 2: 3, 3: 4})\n",
    "\n",
    "plt.figure(figsize=(12,4))\n",
    "\n",
    "ax=plt.subplot(121)\n",
    "sns.kdeplot(data=df, x='age', hue='cp')\n",
    "ax.set_title('Distribution of Chest Pain by Age')\n",
    "\n",
    "ax=plt.subplot(122)\n",
    "sns.kdeplot(data=df, x='oldpeak', hue='cp')\n",
    "ax.set_title('Distribution of Chest Pain by the last ST Depression (OldPeak)')\n",
    "\n"
   ]
  },
  {
   "cell_type": "markdown",
   "metadata": {},
   "source": [
    "We can see that the most common Chest Pain is category 1, the lowest, and is most common around the age of 60. <br>\n",
    "Also we can see that most ST Depressions occur between 0 and 1, and the most common chest pain is category 2"
   ]
  },
  {
   "cell_type": "markdown",
   "metadata": {},
   "source": [
    "### Classification Models"
   ]
  },
  {
   "cell_type": "code",
   "execution_count": 87,
   "metadata": {},
   "outputs": [],
   "source": [
    "X = data.drop('target', axis=1)\n",
    "y = data['target']\n",
    "\n",
    "\n",
    "X_train, X_test, y_train, y_test = train_test_split(X, y, test_size=0.2, stratify=y, random_state=rs)\n",
    "\n",
    "scaler = StandardScaler()\n",
    "X_train = scaler.fit_transform(X_train)\n",
    "X_test = scaler.fit_transform(X_test)\n",
    "\n",
    "X_smo, y_smo, X_under, y_under = resample(X_train, y_train)\n",
    "\n",
    "lr_results = []\n",
    "rf_results = []\n",
    "knn_results = []\n",
    "lscv_results = []\n",
    "results = []"
   ]
  },
  {
   "cell_type": "markdown",
   "metadata": {},
   "source": [
    "### Logistic Regression"
   ]
  },
  {
   "cell_type": "markdown",
   "metadata": {},
   "source": [
    "#### Plain Logistic Regression"
   ]
  },
  {
   "cell_type": "code",
   "execution_count": 89,
   "metadata": {},
   "outputs": [
    {
     "name": "stdout",
     "output_type": "stream",
     "text": [
      "LOGISTIC REGRESSION\n"
     ]
    },
    {
     "data": {
      "text/plain": [
       "{'type': 'Original',\n",
       " 'accuracy': 0.8524590163934426,\n",
       " 'recall': np.float64(0.9090909090909091),\n",
       " 'auc': np.float64(0.8474025974025974),\n",
       " 'precision': np.float64(0.8333333333333334),\n",
       " 'fscore': np.float64(0.9059233449477352)}"
      ]
     },
     "execution_count": 89,
     "metadata": {},
     "output_type": "execute_result"
    }
   ],
   "source": [
    "lr_model = LogisticRegression(random_state = rs, max_iter = 1000, class_weight = None, penalty = 'l2')\n",
    "lr_model= lr_model.fit(X_train, y_train)\n",
    "preds = lr_model.predict(X_test)\n",
    "print('LOGISTIC REGRESSION')\n",
    "result = evaluate(y_test, preds)\n",
    "lr_results.append(result)\n",
    "result"
   ]
  },
  {
   "cell_type": "markdown",
   "metadata": {},
   "source": [
    "#### Weighted Logistic Regression"
   ]
  },
  {
   "cell_type": "code",
   "execution_count": 29,
   "metadata": {},
   "outputs": [
    {
     "name": "stdout",
     "output_type": "stream",
     "text": [
      "Fitting 5 folds for each of 6 candidates, totalling 30 fits\n"
     ]
    },
    {
     "data": {
      "text/plain": [
       "{'class_weight': {0: 0.3, 1: 0.7}}"
      ]
     },
     "execution_count": 29,
     "metadata": {},
     "output_type": "execute_result"
    }
   ],
   "source": [
    "grid_search_lr(X_train, y_train)"
   ]
  },
  {
   "cell_type": "code",
   "execution_count": 90,
   "metadata": {},
   "outputs": [
    {
     "data": {
      "text/plain": [
       "{'type': 'Weighted',\n",
       " 'accuracy': 0.819672131147541,\n",
       " 'recall': np.float64(0.9393939393939394),\n",
       " 'auc': np.float64(0.808982683982684),\n",
       " 'precision': np.float64(0.775),\n",
       " 'fscore': np.float64(0.9317919075144508)}"
      ]
     },
     "execution_count": 90,
     "metadata": {},
     "output_type": "execute_result"
    }
   ],
   "source": [
    "lr_model = LogisticRegression(random_state = rs, max_iter = 1000, class_weight = {0: 0.3, 1: 0.7}, penalty = 'l2')\n",
    "lr_model= lr_model.fit(X_train, y_train)\n",
    "preds = lr_model.predict(X_test)\n",
    "result = evaluate(y_test, preds, 'Weighted')\n",
    "lr_results.append(result)\n",
    "result"
   ]
  },
  {
   "cell_type": "markdown",
   "metadata": {},
   "source": [
    "#### Weighted SMOTE Logistic Regression"
   ]
  },
  {
   "cell_type": "code",
   "execution_count": 31,
   "metadata": {},
   "outputs": [
    {
     "name": "stdout",
     "output_type": "stream",
     "text": [
      "Fitting 5 folds for each of 6 candidates, totalling 30 fits\n"
     ]
    },
    {
     "data": {
      "text/plain": [
       "{'class_weight': {0: 0.3, 1: 0.7}}"
      ]
     },
     "execution_count": 31,
     "metadata": {},
     "output_type": "execute_result"
    }
   ],
   "source": [
    "grid_search_lr(X_smo, y_smo)"
   ]
  },
  {
   "cell_type": "code",
   "execution_count": 91,
   "metadata": {},
   "outputs": [
    {
     "name": "stdout",
     "output_type": "stream",
     "text": [
      "LOGISTIC REGRESSION SMOTE WEIGHTED\n"
     ]
    },
    {
     "data": {
      "text/plain": [
       "{'type': 'SMOTE',\n",
       " 'accuracy': 0.819672131147541,\n",
       " 'recall': np.float64(0.9393939393939394),\n",
       " 'auc': np.float64(0.808982683982684),\n",
       " 'precision': np.float64(0.775),\n",
       " 'fscore': np.float64(0.9317919075144508)}"
      ]
     },
     "execution_count": 91,
     "metadata": {},
     "output_type": "execute_result"
    }
   ],
   "source": [
    "lr_model_smo = LogisticRegression(random_state = rs, max_iter = 1000, class_weight = {0: 0.3, 1: 0.7}, penalty = 'l2')\n",
    "lr_model_smo= lr_model_smo.fit(X_smo, y_smo)\n",
    "preds_smo = lr_model_smo.predict(X_test)\n",
    "\n",
    "print('LOGISTIC REGRESSION SMOTE WEIGHTED')\n",
    "result = evaluate(y_test, preds_smo, 'SMOTE')\n",
    "lr_results.append(result)\n",
    "result"
   ]
  },
  {
   "cell_type": "markdown",
   "metadata": {},
   "source": [
    "#### Weighted Undersampled Logistic Regression"
   ]
  },
  {
   "cell_type": "code",
   "execution_count": 33,
   "metadata": {},
   "outputs": [
    {
     "name": "stdout",
     "output_type": "stream",
     "text": [
      "Fitting 5 folds for each of 6 candidates, totalling 30 fits\n"
     ]
    },
    {
     "data": {
      "text/plain": [
       "{'class_weight': {0: 0.5, 1: 0.5}}"
      ]
     },
     "execution_count": 33,
     "metadata": {},
     "output_type": "execute_result"
    }
   ],
   "source": [
    "grid_search_lr(X_under, y_under)"
   ]
  },
  {
   "cell_type": "code",
   "execution_count": 97,
   "metadata": {},
   "outputs": [
    {
     "name": "stdout",
     "output_type": "stream",
     "text": [
      "LOGISTIC REGRESSION UNDERSAMPLING WEIGHTED\n"
     ]
    },
    {
     "data": {
      "text/plain": [
       "{'type': 'Undersampling',\n",
       " 'accuracy': 0.8360655737704918,\n",
       " 'recall': np.float64(0.8787878787878788),\n",
       " 'auc': np.float64(0.8322510822510822),\n",
       " 'precision': np.float64(0.8285714285714286),\n",
       " 'fscore': np.float64(0.8767441860465116)}"
      ]
     },
     "execution_count": 97,
     "metadata": {},
     "output_type": "execute_result"
    }
   ],
   "source": [
    "lr_model_und = LogisticRegression(random_state = rs, max_iter = 1000, class_weight = {0: 0.5, 1: 0.5}, penalty = 'l2')\n",
    "lr_model_und.fit(X_under, y_under)\n",
    "preds_under = lr_model_und.predict(X_test)\n",
    "\n",
    "print('LOGISTIC REGRESSION UNDERSAMPLING WEIGHTED')\n",
    "result = evaluate(y_test, preds_under, 'Undersampling')\n",
    "lr_results.append(result)\n",
    "result"
   ]
  },
  {
   "cell_type": "code",
   "execution_count": 95,
   "metadata": {},
   "outputs": [
    {
     "name": "stdout",
     "output_type": "stream",
     "text": [
      "            type  accuracy    recall       auc  precision    fscore\n",
      "0       Original  0.852459  0.909091  0.847403   0.833333  0.905923\n",
      "1       Weighted  0.819672  0.939394  0.808983   0.775000  0.931792\n",
      "2          SMOTE  0.819672  0.939394  0.808983   0.775000  0.931792\n",
      "3  Undersampling  0.836066  0.878788  0.832251   0.828571  0.876744\n"
     ]
    },
    {
     "data": {
      "image/png": "[encoded data removed]",
      "text/plain": [
       "<Figure size 960x800 with 1 Axes>"
      ]
     },
     "metadata": {},
     "output_type": "display_data"
    }
   ],
   "source": [
    "visualize_eval_metrics(lr_results)"
   ]
  },
  {
   "cell_type": "markdown",
   "metadata": {},
   "source": [
    "Based on the graph and the data, the best Logistic Regression models are the ones with weighted classes and SMOTE"
   ]
  },
  {
   "cell_type": "code",
   "execution_count": 129,
   "metadata": {},
   "outputs": [],
   "source": [
    "results.append(lr_results[1])"
   ]
  },
  {
   "cell_type": "markdown",
   "metadata": {},
   "source": [
    "### Random Forest"
   ]
  },
  {
   "cell_type": "markdown",
   "metadata": {},
   "source": [
    "#### Plain Random Forest"
   ]
  },
  {
   "cell_type": "code",
   "execution_count": 98,
   "metadata": {},
   "outputs": [
    {
     "name": "stdout",
     "output_type": "stream",
     "text": [
      "Fitting 5 folds for each of 24 candidates, totalling 120 fits\n"
     ]
    },
    {
     "data": {
      "text/plain": [
       "{'max_depth': 5, 'min_samples_split': 5, 'n_estimators': 50}"
      ]
     },
     "execution_count": 98,
     "metadata": {},
     "output_type": "execute_result"
    }
   ],
   "source": [
    "params_grid = {\n",
    "    'max_depth': [5, 10, 15, 20],\n",
    "    'n_estimators': [25, 50, 100],\n",
    "    'min_samples_split': [2, 5],\n",
    "}\n",
    "rf_model = RandomForestClassifier(random_state=rs)\n",
    "grid_search = GridSearchCV(estimator = rf_model, \n",
    "                        param_grid = params_grid, \n",
    "                        scoring='f1',\n",
    "                        cv = 5, verbose = 1)\n",
    "grid_search.fit(X_train, y_train)\n",
    "best_params = grid_search.best_params_\n",
    "best_params"
   ]
  },
  {
   "cell_type": "code",
   "execution_count": 99,
   "metadata": {},
   "outputs": [
    {
     "name": "stdout",
     "output_type": "stream",
     "text": [
      "RANDOM FOREST\n"
     ]
    },
    {
     "data": {
      "text/plain": [
       "{'type': 'Original',\n",
       " 'accuracy': 0.8360655737704918,\n",
       " 'recall': np.float64(0.9090909090909091),\n",
       " 'auc': np.float64(0.8295454545454546),\n",
       " 'precision': np.float64(0.8108108108108109),\n",
       " 'fscore': np.float64(0.9048723897911833)}"
      ]
     },
     "execution_count": 99,
     "metadata": {},
     "output_type": "execute_result"
    }
   ],
   "source": [
    "rf_model = RandomForestClassifier(random_state = rs, bootstrap=True, class_weight=None, max_depth=5, min_samples_split=5, n_estimators=50)\n",
    "rf_model = rf_model.fit(X_train, y_train)\n",
    "preds = rf_model.predict(X_test)\n",
    "\n",
    "print('RANDOM FOREST')\n",
    "result = evaluate(y_test, preds)\n",
    "rf_results.append(result)\n",
    "result"
   ]
  },
  {
   "cell_type": "markdown",
   "metadata": {},
   "source": [
    "#### Weighted Random Forest"
   ]
  },
  {
   "cell_type": "code",
   "execution_count": 39,
   "metadata": {},
   "outputs": [
    {
     "name": "stdout",
     "output_type": "stream",
     "text": [
      "Fitting 5 folds for each of 120 candidates, totalling 600 fits\n"
     ]
    },
    {
     "data": {
      "text/plain": [
       "{'class_weight': {0: 0.2, 1: 0.8},\n",
       " 'max_depth': 5,\n",
       " 'min_samples_split': 5,\n",
       " 'n_estimators': 50}"
      ]
     },
     "execution_count": 39,
     "metadata": {},
     "output_type": "execute_result"
    }
   ],
   "source": [
    "grid_search_rf(X_train, y_train)"
   ]
  },
  {
   "cell_type": "code",
   "execution_count": 100,
   "metadata": {},
   "outputs": [
    {
     "name": "stdout",
     "output_type": "stream",
     "text": [
      "RANDOM FOREST WEIGHTED\n"
     ]
    },
    {
     "data": {
      "text/plain": [
       "{'type': 'Weighted',\n",
       " 'accuracy': 0.8360655737704918,\n",
       " 'recall': np.float64(0.9696969696969697),\n",
       " 'auc': np.float64(0.8241341991341993),\n",
       " 'precision': np.float64(0.7804878048780488),\n",
       " 'fscore': np.float64(0.9607390300230947)}"
      ]
     },
     "execution_count": 100,
     "metadata": {},
     "output_type": "execute_result"
    }
   ],
   "source": [
    "rf_model = RandomForestClassifier(random_state = rs, bootstrap=True, class_weight={0: 0.2, 1: 0.8}, max_depth=5, min_samples_split=5, n_estimators=50)\n",
    "rf_model = rf_model.fit(X_train, y_train)\n",
    "preds = rf_model.predict(X_test)\n",
    "\n",
    "print('RANDOM FOREST WEIGHTED')\n",
    "result = evaluate(y_test, preds, 'Weighted')\n",
    "rf_results.append(result)\n",
    "result"
   ]
  },
  {
   "cell_type": "markdown",
   "metadata": {},
   "source": [
    "#### Weighted SMOTE Random Forest"
   ]
  },
  {
   "cell_type": "code",
   "execution_count": 41,
   "metadata": {},
   "outputs": [
    {
     "name": "stdout",
     "output_type": "stream",
     "text": [
      "Fitting 5 folds for each of 120 candidates, totalling 600 fits\n"
     ]
    },
    {
     "data": {
      "text/plain": [
       "{'class_weight': {0: 0.3, 1: 0.7},\n",
       " 'max_depth': 10,\n",
       " 'min_samples_split': 5,\n",
       " 'n_estimators': 25}"
      ]
     },
     "execution_count": 41,
     "metadata": {},
     "output_type": "execute_result"
    }
   ],
   "source": [
    "grid_search_rf(X_smo, y_smo)"
   ]
  },
  {
   "cell_type": "code",
   "execution_count": 101,
   "metadata": {},
   "outputs": [
    {
     "name": "stdout",
     "output_type": "stream",
     "text": [
      "RANDOM FOREST SMOTE WEIGHTED\n"
     ]
    },
    {
     "data": {
      "text/plain": [
       "{'type': 'SMOTE',\n",
       " 'accuracy': 0.8360655737704918,\n",
       " 'recall': np.float64(0.9696969696969697),\n",
       " 'auc': np.float64(0.8241341991341993),\n",
       " 'precision': np.float64(0.7804878048780488),\n",
       " 'fscore': np.float64(0.9607390300230947)}"
      ]
     },
     "execution_count": 101,
     "metadata": {},
     "output_type": "execute_result"
    }
   ],
   "source": [
    "rf_model_smo = RandomForestClassifier(random_state = rs, bootstrap=True, class_weight={0: 0.3, 1: 0.7}, max_depth=10, min_samples_split=5, n_estimators=25)\n",
    "rf_model_smo = rf_model_smo.fit(X_smo, y_smo)\n",
    "preds_smo = rf_model_smo.predict(X_test)\n",
    "\n",
    "print('RANDOM FOREST SMOTE WEIGHTED')\n",
    "result = evaluate(y_test, preds, 'SMOTE')\n",
    "rf_results.append(preds_smo)\n",
    "result"
   ]
  },
  {
   "cell_type": "markdown",
   "metadata": {},
   "source": [
    "#### Weighted Undersampling Random Forest"
   ]
  },
  {
   "cell_type": "code",
   "execution_count": 43,
   "metadata": {},
   "outputs": [
    {
     "name": "stdout",
     "output_type": "stream",
     "text": [
      "Fitting 5 folds for each of 120 candidates, totalling 600 fits\n"
     ]
    },
    {
     "data": {
      "text/plain": [
       "{'class_weight': {0: 0.4, 1: 0.6},\n",
       " 'max_depth': 15,\n",
       " 'min_samples_split': 5,\n",
       " 'n_estimators': 25}"
      ]
     },
     "execution_count": 43,
     "metadata": {},
     "output_type": "execute_result"
    }
   ],
   "source": [
    "grid_search_rf(X_under, y_under)"
   ]
  },
  {
   "cell_type": "code",
   "execution_count": 102,
   "metadata": {},
   "outputs": [
    {
     "name": "stdout",
     "output_type": "stream",
     "text": [
      "RANDOM FOREST UNDERSAMPLING WEIGHTED\n"
     ]
    },
    {
     "data": {
      "text/plain": [
       "{'type': 'Undersampling',\n",
       " 'accuracy': 0.8360655737704918,\n",
       " 'recall': np.float64(0.9696969696969697),\n",
       " 'auc': np.float64(0.8241341991341993),\n",
       " 'precision': np.float64(0.7804878048780488),\n",
       " 'fscore': np.float64(0.9607390300230947)}"
      ]
     },
     "execution_count": 102,
     "metadata": {},
     "output_type": "execute_result"
    }
   ],
   "source": [
    "rf_model_under = RandomForestClassifier(random_state = rs, bootstrap=True, class_weight={0: 0.4, 1: 0.6}, max_depth=15, min_samples_split=5, n_estimators=25)\n",
    "rf_model_under = rf_model_under.fit(X_under, y_under)\n",
    "preds_under = rf_model_under.predict(X_test)\n",
    "\n",
    "print('RANDOM FOREST UNDERSAMPLING WEIGHTED')\n",
    "result = evaluate(y_test, preds, 'Undersampling')\n",
    "rf_results.append(preds_under)\n",
    "result"
   ]
  },
  {
   "cell_type": "code",
   "execution_count": 103,
   "metadata": {},
   "outputs": [
    {
     "name": "stdout",
     "output_type": "stream",
     "text": [
      "            type  accuracy    recall       auc  precision    fscore\n",
      "0       Original  0.852459  0.909091  0.847403   0.833333  0.905923\n",
      "1       Weighted  0.819672  0.939394  0.808983   0.775000  0.931792\n",
      "2          SMOTE  0.819672  0.939394  0.808983   0.775000  0.931792\n",
      "3  Undersampling  0.836066  0.878788  0.832251   0.828571  0.876744\n"
     ]
    },
    {
     "data": {
      "image/png": "[encoded data removed]",
      "text/plain": [
       "<Figure size 960x800 with 1 Axes>"
      ]
     },
     "metadata": {},
     "output_type": "display_data"
    }
   ],
   "source": [
    "visualize_eval_metrics(lr_results)\n"
   ]
  },
  {
   "cell_type": "markdown",
   "metadata": {},
   "source": [
    "Based on the graph and the data, the best Logistic Regression models are the ones with weighted classes and SMOTE"
   ]
  },
  {
   "cell_type": "code",
   "execution_count": 130,
   "metadata": {},
   "outputs": [],
   "source": [
    "results.append(rf_results[1])"
   ]
  },
  {
   "cell_type": "markdown",
   "metadata": {},
   "source": [
    "### LinearSCV"
   ]
  },
  {
   "cell_type": "markdown",
   "metadata": {},
   "source": [
    "#### Plain LinearSCV"
   ]
  },
  {
   "cell_type": "code",
   "execution_count": 59,
   "metadata": {},
   "outputs": [
    {
     "name": "stdout",
     "output_type": "stream",
     "text": [
      "Fitting 5 folds for each of 16 candidates, totalling 80 fits\n"
     ]
    },
    {
     "data": {
      "text/plain": [
       "{'C': 1, 'penalty': 'l2'}"
      ]
     },
     "execution_count": 59,
     "metadata": {},
     "output_type": "execute_result"
    }
   ],
   "source": [
    "params_grid = {\n",
    "        'penalty': ['l1', 'l2'],\n",
    "        'C': [1, 3, 5, 7, 9, 10, 12, 15],\n",
    "    }\n",
    "    \n",
    "lscv_model = LinearSVC(random_state=rs, max_iter=2000)\n",
    "grid_search = GridSearchCV(estimator=lscv_model,\n",
    "                                param_grid=params_grid,\n",
    "                                scoring='f1',\n",
    "                                cv=5, verbose=1)\n",
    "grid_search.fit(X_train, y_train)\n",
    "best_params = grid_search.best_params_\n",
    "best_params"
   ]
  },
  {
   "cell_type": "code",
   "execution_count": 120,
   "metadata": {},
   "outputs": [],
   "source": [
    "lscv_results = []"
   ]
  },
  {
   "cell_type": "code",
   "execution_count": 121,
   "metadata": {},
   "outputs": [
    {
     "name": "stdout",
     "output_type": "stream",
     "text": [
      "LINEAR SCV\n"
     ]
    },
    {
     "data": {
      "text/plain": [
       "{'type': 'Original',\n",
       " 'accuracy': 0.8688524590163934,\n",
       " 'recall': np.float64(0.9393939393939394),\n",
       " 'auc': np.float64(0.8625541125541125),\n",
       " 'precision': np.float64(0.8378378378378378),\n",
       " 'fscore': np.float64(0.9350348027842227)}"
      ]
     },
     "execution_count": 121,
     "metadata": {},
     "output_type": "execute_result"
    }
   ],
   "source": [
    "lscv_model = LinearSVC(C=1, class_weight=None, penalty='l2')\n",
    "lscv_model = lscv_model.fit(X_train, y_train)\n",
    "preds_lscv = lscv_model.predict(X_test)\n",
    "\n",
    "print('LINEAR SCV')\n",
    "result = evaluate(y_test, preds_lscv)\n",
    "lscv_results.append(result)\n",
    "result"
   ]
  },
  {
   "cell_type": "markdown",
   "metadata": {},
   "source": [
    "#### Weighted LinearSCV"
   ]
  },
  {
   "cell_type": "code",
   "execution_count": 61,
   "metadata": {},
   "outputs": [
    {
     "name": "stdout",
     "output_type": "stream",
     "text": [
      "Fitting 5 folds for each of 80 candidates, totalling 400 fits\n"
     ]
    },
    {
     "data": {
      "text/plain": [
       "{'C': 1, 'class_weight': {0: 0.3, 1: 0.7}, 'penalty': 'l2'}"
      ]
     },
     "execution_count": 61,
     "metadata": {},
     "output_type": "execute_result"
    }
   ],
   "source": [
    "grid_seacrh_lsvc(X_train, y_train)"
   ]
  },
  {
   "cell_type": "code",
   "execution_count": 122,
   "metadata": {},
   "outputs": [
    {
     "name": "stdout",
     "output_type": "stream",
     "text": [
      "LINEAR SCV WEIGHTED\n"
     ]
    },
    {
     "data": {
      "text/plain": [
       "{'type': 'Weighted',\n",
       " 'accuracy': 0.819672131147541,\n",
       " 'recall': np.float64(0.9393939393939394),\n",
       " 'auc': np.float64(0.808982683982684),\n",
       " 'precision': np.float64(0.775),\n",
       " 'fscore': np.float64(0.9317919075144508)}"
      ]
     },
     "execution_count": 122,
     "metadata": {},
     "output_type": "execute_result"
    }
   ],
   "source": [
    "lscv_model = LinearSVC(C=1, class_weight={0: 0.3, 1: 0.7}, penalty='l2')\n",
    "lscv_model = lscv_model.fit(X_train, y_train)\n",
    "preds_lscv = lscv_model.predict(X_test)\n",
    "\n",
    "print('LINEAR SCV WEIGHTED')\n",
    "result = evaluate(y_test, preds_lscv, 'Weighted')\n",
    "lscv_results.append(result)\n",
    "result"
   ]
  },
  {
   "cell_type": "markdown",
   "metadata": {},
   "source": [
    "#### Weighted SMOTE LinearSCV"
   ]
  },
  {
   "cell_type": "code",
   "execution_count": 67,
   "metadata": {},
   "outputs": [
    {
     "name": "stdout",
     "output_type": "stream",
     "text": [
      "Fitting 5 folds for each of 80 candidates, totalling 400 fits\n"
     ]
    },
    {
     "data": {
      "text/plain": [
       "{'C': 1, 'class_weight': {0: 0.3, 1: 0.7}, 'penalty': 'l1'}"
      ]
     },
     "execution_count": 67,
     "metadata": {},
     "output_type": "execute_result"
    }
   ],
   "source": [
    "grid_seacrh_lsvc(X_smo, y_smo)"
   ]
  },
  {
   "cell_type": "code",
   "execution_count": 123,
   "metadata": {},
   "outputs": [
    {
     "name": "stdout",
     "output_type": "stream",
     "text": [
      "LINEAR SCV SMOTE WEIGHTED\n"
     ]
    },
    {
     "data": {
      "text/plain": [
       "{'type': 'SMOTE',\n",
       " 'accuracy': 0.819672131147541,\n",
       " 'recall': np.float64(0.9393939393939394),\n",
       " 'auc': np.float64(0.808982683982684),\n",
       " 'precision': np.float64(0.775),\n",
       " 'fscore': np.float64(0.9317919075144508)}"
      ]
     },
     "execution_count": 123,
     "metadata": {},
     "output_type": "execute_result"
    }
   ],
   "source": [
    "lscv_model = LinearSVC(C=1, class_weight={0: 0.3, 1: 0.7}, penalty='l1')\n",
    "lscv_model = lscv_model.fit(X_smo, y_smo)\n",
    "preds_lscv = lscv_model.predict(X_test)\n",
    "\n",
    "print('LINEAR SCV SMOTE WEIGHTED')\n",
    "result = evaluate(y_test, preds_lscv, 'SMOTE')\n",
    "lscv_results.append(result)\n",
    "result"
   ]
  },
  {
   "cell_type": "markdown",
   "metadata": {},
   "source": [
    "#### Weighted Undersampling LinearSCV"
   ]
  },
  {
   "cell_type": "code",
   "execution_count": 69,
   "metadata": {},
   "outputs": [
    {
     "name": "stdout",
     "output_type": "stream",
     "text": [
      "Fitting 5 folds for each of 80 candidates, totalling 400 fits\n"
     ]
    },
    {
     "data": {
      "text/plain": [
       "{'C': 1, 'class_weight': {0: 0.3, 1: 0.7}, 'penalty': 'l1'}"
      ]
     },
     "execution_count": 69,
     "metadata": {},
     "output_type": "execute_result"
    }
   ],
   "source": [
    "grid_seacrh_lsvc(X_under, y_under)"
   ]
  },
  {
   "cell_type": "code",
   "execution_count": 124,
   "metadata": {},
   "outputs": [
    {
     "name": "stdout",
     "output_type": "stream",
     "text": [
      "\n",
      "LINEAR SCV UNDERSAMPLING WEIGHTED\n"
     ]
    },
    {
     "data": {
      "text/plain": [
       "{'type': 'Undersampling',\n",
       " 'accuracy': 0.8360655737704918,\n",
       " 'recall': np.float64(0.9393939393939394),\n",
       " 'auc': np.float64(0.8268398268398269),\n",
       " 'precision': np.float64(0.7948717948717948),\n",
       " 'fscore': np.float64(0.9328703703703703)}"
      ]
     },
     "execution_count": 124,
     "metadata": {},
     "output_type": "execute_result"
    }
   ],
   "source": [
    "lscv_model = LinearSVC(C=1, class_weight={0: 0.3, 1: 0.7}, penalty='l1')\n",
    "lscv_model = lscv_model.fit(X_under, y_under)\n",
    "preds_lscv = lscv_model.predict(X_test)\n",
    "\n",
    "print()\n",
    "print('LINEAR SCV UNDERSAMPLING WEIGHTED')\n",
    "result = evaluate(y_test, preds_lscv, 'Undersampling')\n",
    "lscv_results.append(result)\n",
    "result"
   ]
  },
  {
   "cell_type": "code",
   "execution_count": 125,
   "metadata": {},
   "outputs": [
    {
     "name": "stdout",
     "output_type": "stream",
     "text": [
      "            type  accuracy    recall       auc  precision    fscore\n",
      "0       Original  0.868852  0.939394  0.862554   0.837838  0.935035\n",
      "1       Weighted  0.819672  0.939394  0.808983   0.775000  0.931792\n",
      "2          SMOTE  0.819672  0.939394  0.808983   0.775000  0.931792\n",
      "3  Undersampling  0.836066  0.939394  0.826840   0.794872  0.932870\n"
     ]
    },
    {
     "data": {
      "image/png": "[encoded data removed]",
      "text/plain": [
       "<Figure size 960x800 with 1 Axes>"
      ]
     },
     "metadata": {},
     "output_type": "display_data"
    }
   ],
   "source": [
    "visualize_eval_metrics(lscv_results)"
   ]
  },
  {
   "cell_type": "markdown",
   "metadata": {},
   "source": [
    "Based on the graph and data we can see that the recall is the same in all the cases, the f1 score is pretty similar with all of them, so based on the other metrics the plain LinearSCV is the best one"
   ]
  },
  {
   "cell_type": "code",
   "execution_count": 131,
   "metadata": {},
   "outputs": [],
   "source": [
    "results.append(lscv_results[0])"
   ]
  },
  {
   "cell_type": "markdown",
   "metadata": {},
   "source": [
    "### Key Findings"
   ]
  },
  {
   "cell_type": "code",
   "execution_count": 136,
   "metadata": {},
   "outputs": [
    {
     "name": "stdout",
     "output_type": "stream",
     "text": [
      "       type  accuracy    recall       auc  precision    fscore\n",
      "0  Weighted  0.819672  0.939394  0.808983   0.775000  0.931792\n",
      "1  Weighted  0.836066  0.969697  0.824134   0.780488  0.960739\n",
      "2  Original  0.868852  0.939394  0.862554   0.837838  0.935035\n"
     ]
    },
    {
     "data": {
      "image/png": "[encoded data removed]",
      "text/plain": [
       "<Figure size 960x800 with 1 Axes>"
      ]
     },
     "metadata": {},
     "output_type": "display_data"
    }
   ],
   "source": [
    "df = pd.DataFrame(data=results)\n",
    "#table = pd.pivot_table(df, values='type', index=['accuracy', 'precision', 'recall', 'f1', 'auc'],\n",
    "#                columns=['type'])\n",
    "#df = df.set_index('type').transpose()\n",
    "print(df)\n",
    "x = np.arange(5)\n",
    "logistic = df.iloc[0, 1:].values\n",
    "random_forest = df.iloc[1, 1:].values\n",
    "linearscv = df.iloc[2, 1:].values\n",
    "width = 0.2\n",
    "plt.figure(figsize=(12, 10), dpi=80)\n",
    "plt.bar(x-0.2, logistic, width, color='#95a5a6')\n",
    "plt.bar(x, random_forest, width, color='#d35400')\n",
    "plt.bar(x+0.2, linearscv, width, color='#2980b9')\n",
    "\n",
    "plt.xticks(x, ['Accuracy', 'Recall', 'AUC', 'Precision', 'Fscore'])\n",
    "plt.xlabel(\"Evaluation Metrics\")\n",
    "plt.ylabel(\"Score\")\n",
    "plt.legend([\"Logistic Regression\", \"Random Forest\", \"LinearSCV\"])\n",
    "plt.show()"
   ]
  },
  {
   "cell_type": "markdown",
   "metadata": {},
   "source": [
    "We are comparing the best configuration for each model we explore, and based on the data and graph we can conclude a plain LinearSCV is best best model overall, or at least the one most consistent, even if Random Forest has a better recall and Fscore, LinearCSV still has a good 93.9 and 93.5 in the respectives metrics and a better accuracy, AUC and precision"
   ]
  },
  {
   "cell_type": "markdown",
   "metadata": {},
   "source": [
    "## Possible Flaws"
   ]
  },
  {
   "cell_type": "markdown",
   "metadata": {},
   "source": [
    "The dataset could be revisited applying new different models like Ada Boost or Gradient boos, we could also check if stacking models could improve the metrics"
   ]
  }
 ],
 "metadata": {
  "kernelspec": {
   "display_name": "Python 3",
   "language": "python",
   "name": "python3"
  },
  "language_info": {
   "codemirror_mode": {
    "name": "ipython",
    "version": 3
   },
   "file_extension": ".py",
   "mimetype": "text/x-python",
   "name": "python",
   "nbconvert_exporter": "python",
   "pygments_lexer": "ipython3",
   "version": "3.12.5"
  }
 },
 "nbformat": 4,
 "nbformat_minor": 2
}
